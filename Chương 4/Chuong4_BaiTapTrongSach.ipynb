{
 "cells": [
  {
   "cell_type": "markdown",
   "id": "0738bd64",
   "metadata": {},
   "source": [
    "## Bài 1\n",
    "- a) Hàm sinh n số chẵn đầu tiên tính từ 0\n",
    "- b) Hàm sinh n số chính phương đầu tiên"
   ]
  },
  {
   "cell_type": "code",
   "execution_count": null,
   "id": "1ea5d061",
   "metadata": {},
   "outputs": [],
   "source": [
    "\n",
    "def gen_even(n: int):\n",
    "    return [2*i for i in range(n)]\n",
    "\n",
    "def gen_squares(n: int):\n",
    "    return [i*i for i in range(n)]\n",
    "\n",
    "# Test\n",
    "print(\"5 số chẵn đầu tiên:\", gen_even(5))\n",
    "print(\"6 số chính phương đầu tiên:\", gen_squares(6))\n"
   ]
  },
  {
   "cell_type": "markdown",
   "id": "584cce21",
   "metadata": {},
   "source": [
    "## Bài 2\n",
    "Sinh n số nguyên tố đầu tiên bằng generator"
   ]
  },
  {
   "cell_type": "code",
   "execution_count": null,
   "id": "5a13f4d9",
   "metadata": {},
   "outputs": [],
   "source": [
    "\n",
    "import math\n",
    "\n",
    "def is_prime(x: int) -> bool:\n",
    "    if x < 2:\n",
    "        return False\n",
    "    for i in range(2, int(math.sqrt(x))+1):\n",
    "        if x % i == 0:\n",
    "            return False\n",
    "    return True\n",
    "\n",
    "def gen_prime(n: int):\n",
    "    count = 0\n",
    "    num = 2\n",
    "    while count < n:\n",
    "        if is_prime(num):\n",
    "            yield num\n",
    "            count += 1\n",
    "        num += 1\n",
    "\n",
    "# Test\n",
    "print(\"10 số nguyên tố đầu tiên:\", list(gen_prime(10)))\n"
   ]
  },
  {
   "cell_type": "markdown",
   "id": "401922e8",
   "metadata": {},
   "source": [
    "## Bài 3\n",
    "Viết hàm tính n!"
   ]
  },
  {
   "cell_type": "code",
   "execution_count": null,
   "id": "70c3d407",
   "metadata": {},
   "outputs": [],
   "source": [
    "\n",
    "def factorial(n: int) -> int:\n",
    "    if n < 0:\n",
    "        raise ValueError(\"n phải >= 0\")\n",
    "    res = 1\n",
    "    for i in range(2, n+1):\n",
    "        res *= i\n",
    "    return res\n",
    "\n",
    "# Test\n",
    "print(\"5! =\", factorial(5))\n"
   ]
  },
  {
   "cell_type": "markdown",
   "id": "b1f0fdd4",
   "metadata": {},
   "source": [
    "## Bài 4\n",
    "Dùng list comprehension tạo dãy"
   ]
  },
  {
   "cell_type": "code",
   "execution_count": null,
   "id": "841ef8e6",
   "metadata": {},
   "outputs": [],
   "source": [
    "\n",
    "def mult3_under_100():\n",
    "    return [i for i in range(3, 100, 3)]\n",
    "\n",
    "def first_20_squares():\n",
    "    return [i*i for i in range(20)]\n",
    "\n",
    "def ten_binary_strings():\n",
    "    n = 10\n",
    "    result = []\n",
    "    for i in range(n):\n",
    "        s = ['0'] * n\n",
    "        s[i] = '1'\n",
    "        result.append(''.join(s))\n",
    "    return result\n",
    "\n",
    "# Test\n",
    "print(\"Multiples of 3 < 100:\", mult3_under_100())\n",
    "print(\"20 số chính phương:\", first_20_squares())\n",
    "print(\"10 chuỗi nhị phân:\", ten_binary_strings())\n"
   ]
  },
  {
   "cell_type": "markdown",
   "id": "49542ec2",
   "metadata": {},
   "source": [
    "## Bài 5\n",
    "Các chức năng với list"
   ]
  },
  {
   "cell_type": "code",
   "execution_count": null,
   "id": "fee62d5b",
   "metadata": {},
   "outputs": [],
   "source": [
    "\n",
    "def create_list(items=None):\n",
    "    return [] if items is None else list(items)\n",
    "\n",
    "def append_to_list(L, x):\n",
    "    L.append(x)\n",
    "\n",
    "def count_occurrences(L, k):\n",
    "    return L.count(k)\n",
    "\n",
    "def sum_primes_in_list(L):\n",
    "    return sum(x for x in L if isinstance(x,int) and is_prime(x))\n",
    "\n",
    "def sort_list(L, reverse=False):\n",
    "    L.sort(reverse=reverse)\n",
    "\n",
    "def clear_list(L):\n",
    "    L.clear()\n",
    "\n",
    "# Test\n",
    "L = create_list([1,2,3,5,7,11])\n",
    "append_to_list(L, 3)\n",
    "print(\"List:\", L)\n",
    "print(\"Count 3:\", count_occurrences(L, 3))\n",
    "print(\"Sum primes:\", sum_primes_in_list(L))\n",
    "sort_list(L)\n",
    "print(\"Sorted:\", L)\n",
    "clear_list(L)\n",
    "print(\"Cleared:\", L)\n"
   ]
  },
  {
   "cell_type": "markdown",
   "id": "bec2c8f2",
   "metadata": {},
   "source": [
    "## Bài 6\n",
    "Các thao tác với list"
   ]
  },
  {
   "cell_type": "code",
   "execution_count": null,
   "id": "379f7136",
   "metadata": {},
   "outputs": [],
   "source": [
    "\n",
    "import random\n",
    "\n",
    "def random_int_list(n, low=0, high=100):\n",
    "    return [random.randint(low, high) for _ in range(n)]\n",
    "\n",
    "def remove_all_occurrences(L, k):\n",
    "    return [x for x in L if x != k]\n",
    "\n",
    "def is_palindrome_list(L):\n",
    "    return L == L[::-1]\n",
    "\n",
    "# Test\n",
    "R = random_int_list(10, 0, 10)\n",
    "print(\"Random:\", R)\n",
    "print(\"Remove all first element:\", remove_all_occurrences(R, R[0]))\n",
    "print(\"Is palindrome [1,2,1]:\", is_palindrome_list([1,2,1]))\n"
   ]
  },
  {
   "cell_type": "markdown",
   "id": "f78e32b2",
   "metadata": {},
   "source": [
    "## Bài 7\n",
    "Phân tích mảng số tự nhiên"
   ]
  },
  {
   "cell_type": "code",
   "execution_count": null,
   "id": "a90bf11c",
   "metadata": {},
   "outputs": [],
   "source": [
    "\n",
    "def analyze_array(arr):\n",
    "    odds = [x for x in arr if x % 2 == 1]\n",
    "    evens = [x for x in arr if x % 2 == 0]\n",
    "    primes = [x for x in arr if is_prime(x)]\n",
    "    return {\n",
    "        'odds': odds,\n",
    "        'num_odds': len(odds),\n",
    "        'evens': evens,\n",
    "        'num_evens': len(evens),\n",
    "        'primes': primes\n",
    "    }\n",
    "\n",
    "# Test\n",
    "arr = list(range(1, 20))\n",
    "print(analyze_array(arr))\n"
   ]
  },
  {
   "cell_type": "markdown",
   "id": "ed40a107",
   "metadata": {},
   "source": [
    "## Bài 8\n",
    "Tính tổng và tích giá trị trong dict"
   ]
  },
  {
   "cell_type": "code",
   "execution_count": null,
   "id": "e5741d9a",
   "metadata": {},
   "outputs": [],
   "source": [
    "\n",
    "def sum_and_product_dict_values(d):\n",
    "    vals = [v for v in d.values() if isinstance(v, (int, float))]\n",
    "    s = sum(vals)\n",
    "    p = 1\n",
    "    for v in vals:\n",
    "        p *= v\n",
    "    return s, p\n",
    "\n",
    "# Test\n",
    "print(sum_and_product_dict_values({'a':2,'b':3,'c':4}))\n"
   ]
  },
  {
   "cell_type": "markdown",
   "id": "c4204ca7",
   "metadata": {},
   "source": [
    "## Bài 9\n",
    "Sắp xếp giá trị trong dict"
   ]
  },
  {
   "cell_type": "code",
   "execution_count": null,
   "id": "1ee3f369",
   "metadata": {},
   "outputs": [],
   "source": [
    "\n",
    "def sort_dict_values(d, reverse=False):\n",
    "    return sorted(d.values(), reverse=reverse)\n",
    "\n",
    "# Test\n",
    "print(sort_dict_values({'a':5,'b':2,'c':9}))\n",
    "print(sort_dict_values({'a':5,'b':2,'c':9}, reverse=True))\n"
   ]
  },
  {
   "cell_type": "markdown",
   "id": "1a68f97d",
   "metadata": {},
   "source": [
    "## Bài 10\n",
    "Nối (concatenate) 2 dict"
   ]
  },
  {
   "cell_type": "code",
   "execution_count": null,
   "id": "ae739933",
   "metadata": {},
   "outputs": [],
   "source": [
    "\n",
    "def concat_dicts(dic1, dic2):\n",
    "    res = dict(dic1)\n",
    "    for k,v in dic2.items():\n",
    "        if k not in res:\n",
    "            res[k] = v\n",
    "    return res\n",
    "\n",
    "# Test\n",
    "print(concat_dicts({1:10,2:20},{2:200,3:30}))\n"
   ]
  },
  {
   "cell_type": "markdown",
   "id": "0fcfe95d",
   "metadata": {},
   "source": [
    "## Bài 11\n",
    "Merge dicts (ghi đè nếu trùng key)"
   ]
  },
  {
   "cell_type": "code",
   "execution_count": null,
   "id": "4d6283bd",
   "metadata": {},
   "outputs": [],
   "source": [
    "\n",
    "def merge_dicts_overwrite(d1, d2):\n",
    "    res = dict(d1)\n",
    "    res.update(d2)\n",
    "    return res\n",
    "\n",
    "# Test\n",
    "print(merge_dicts_overwrite({'a':100,'b':200},{'a':300,'y':200}))\n"
   ]
  },
  {
   "cell_type": "markdown",
   "id": "c6f1a520",
   "metadata": {},
   "source": [
    "## Bài 12\n",
    "Combine dicts (cộng giá trị nếu trùng key)"
   ]
  },
  {
   "cell_type": "code",
   "execution_count": null,
   "id": "8121be4b",
   "metadata": {},
   "outputs": [],
   "source": [
    "\n",
    "def combine_dicts_sum(d1, d2):\n",
    "    res = {}\n",
    "    keys = set(d1.keys()) | set(d2.keys())\n",
    "    for k in keys:\n",
    "        res[k] = d1.get(k,0) + d2.get(k,0)\n",
    "    return res\n",
    "\n",
    "# Test\n",
    "print(combine_dicts_sum({'a':100,'b':200},{'a':300,'y':200}))\n"
   ]
  },
  {
   "cell_type": "markdown",
   "id": "fd10dd10",
   "metadata": {},
   "source": [
    "## Bài 13\n",
    "Đa thức Pn"
   ]
  },
  {
   "cell_type": "code",
   "execution_count": null,
   "id": "a716fdc7",
   "metadata": {},
   "outputs": [],
   "source": [
    "\n",
    "def eval_polynomial(coeffs, x):\n",
    "    s = 0\n",
    "    xp = 1\n",
    "    for a in coeffs:\n",
    "        s += a*xp\n",
    "        xp *= x\n",
    "    return s\n",
    "\n",
    "# Test\n",
    "print(eval_polynomial([1,-2,3], 2))  # 1 -2*2 + 3*4 = 9\n"
   ]
  },
  {
   "cell_type": "markdown",
   "id": "7bc08f48",
   "metadata": {},
   "source": [
    "## Bài 14\n",
    "Doanh số Yody"
   ]
  },
  {
   "cell_type": "code",
   "execution_count": null,
   "id": "0dfd39e1",
   "metadata": {},
   "outputs": [],
   "source": [
    "\n",
    "def yody_tasks(sales):\n",
    "    if len(sales) != 10:\n",
    "        raise ValueError(\"Cần đúng 10 cửa hàng\")\n",
    "    sorted_sales = sorted(sales)\n",
    "    avg = sum(sales)/len(sales)\n",
    "    max_sale = max(sales)\n",
    "    max_indices = [i for i,v in enumerate(sales) if v==max_sale]\n",
    "    return {\n",
    "        'sorted_sales': sorted_sales,\n",
    "        'average': avg,\n",
    "        'max_sale': max_sale,\n",
    "        'max_stores': max_indices\n",
    "    }\n",
    "\n",
    "# Test\n",
    "print(yody_tasks([100,200,300,400,500,600,700,800,900,1000]))\n"
   ]
  },
  {
   "cell_type": "markdown",
   "id": "8e38496e",
   "metadata": {},
   "source": [
    "## Bài 15\n",
    "Quản lý thí sinh lớp 10"
   ]
  },
  {
   "cell_type": "code",
   "execution_count": null,
   "id": "b42ff67c",
   "metadata": {},
   "outputs": [],
   "source": [
    "\n",
    "from dataclasses import dataclass\n",
    "\n",
    "@dataclass\n",
    "class Candidate:\n",
    "    sbn: str\n",
    "    name: str\n",
    "    math: float\n",
    "    viet: float\n",
    "\n",
    "    def total(self):\n",
    "        return self.math + self.viet\n",
    "\n",
    "    def is_valid(self):\n",
    "        return (self.sbn.isdigit() and len(self.sbn)==5\n",
    "                and isinstance(self.name, str) and len(self.name)<=25\n",
    "                and 0<=self.math<=10 and 0<=self.viet<=10)\n",
    "\n",
    "def add_candidate(lst, sbn, name, math, viet):\n",
    "    c = Candidate(sbn, name, math, viet)\n",
    "    if not c.is_valid():\n",
    "        return False\n",
    "    lst.append(c)\n",
    "    return True\n",
    "\n",
    "def candidates_total_gt(lst, threshold=10):\n",
    "    return [c for c in lst if c.total()>threshold]\n",
    "\n",
    "def candidates_with_zero_score(lst):\n",
    "    return [c for c in lst if c.math==0 or c.viet==0]\n",
    "\n",
    "# Test\n",
    "cand_list = []\n",
    "add_candidate(cand_list, \"00001\", \"Nguyen Van A\", 6.5, 5.0)\n",
    "add_candidate(cand_list, \"00002\", \"Tran Thi B\", 0.0, 6.0)\n",
    "add_candidate(cand_list, \"00003\", \"Le C\", 7.0, 7.5)\n",
    "\n",
    "print(\"Tổng > 10:\", [c.name for c in candidates_total_gt(cand_list)])\n",
    "print(\"Điểm liệt:\", [c.name for c in candidates_with_zero_score(cand_list)])\n"
   ]
  }
 ],
 "metadata": {},
 "nbformat": 4,
 "nbformat_minor": 5
}
